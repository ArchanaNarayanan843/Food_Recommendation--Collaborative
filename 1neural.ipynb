{
 "cells": [
  {
   "cell_type": "code",
   "execution_count": 1,
   "id": "1bdb3d6a",
   "metadata": {
    "scrolled": true
   },
   "outputs": [
    {
     "name": "stderr",
     "output_type": "stream",
     "text": [
      "2022-10-26 10:43:38.744707: E tensorflow/stream_executor/cuda/cuda_blas.cc:2981] Unable to register cuBLAS factory: Attempting to register factory for plugin cuBLAS when one has already been registered\n"
     ]
    }
   ],
   "source": [
    "import os\n",
    "os.environ['TF_CPP_MIN_LOG_LEVEL'] = '2'\n",
    "\n",
    "#import tensorflow as tf\n",
    "import numpy as np\n",
    "import pandas as pd\n",
    "#from zipfile import ZipFile\n",
    "from tensorflow import keras\n",
    "from tensorflow.keras import layers\n",
    "from keras.models import Model, Sequential\n",
    "#from pathlib import Path\n",
    "import matplotlib.pyplot as plt\n",
    "import requests\n",
    "from PIL import Image\n",
    "import requests\n",
    "from io import BytesIO\n",
    "from IPython.display import display\n"
   ]
  },
  {
   "cell_type": "code",
   "execution_count": 49,
   "id": "233e87e7",
   "metadata": {},
   "outputs": [],
   "source": [
    "from urllib3.exceptions import InsecureRequestWarning\n",
    "from urllib3 import disable_warnings\n",
    "\n",
    "disable_warnings(InsecureRequestWarning)"
   ]
  },
  {
   "cell_type": "code",
   "execution_count": 2,
   "id": "7a48e24f",
   "metadata": {},
   "outputs": [],
   "source": [
    "#data['user_id'] = pd.factorize(data['user_name'])[0]\n",
    "#data.to_csv('user_item.csv')"
   ]
  },
  {
   "cell_type": "code",
   "execution_count": 3,
   "id": "661775e0",
   "metadata": {},
   "outputs": [],
   "source": [
    "data=pd.read_csv('user_item.csv')"
   ]
  },
  {
   "cell_type": "code",
   "execution_count": 4,
   "id": "905d1008",
   "metadata": {},
   "outputs": [],
   "source": [
    "image=data[['item_name','images']]\n",
    "image=image.dropna()\n",
    "#image=image.drop_duplicates(subset=['name'],keep='last')\n",
    "\n",
    "def url_to_image(url):\n",
    "    response = requests.get(url)\n",
    "    img = Image.open(BytesIO(response.content))\n",
    "    img = img.resize((150,150),Image.ANTIALIAS)\n",
    "    return img"
   ]
  },
  {
   "cell_type": "code",
   "execution_count": 5,
   "id": "0515cae6",
   "metadata": {},
   "outputs": [
    {
     "data": {
      "text/html": [
       "<div>\n",
       "<style scoped>\n",
       "    .dataframe tbody tr th:only-of-type {\n",
       "        vertical-align: middle;\n",
       "    }\n",
       "\n",
       "    .dataframe tbody tr th {\n",
       "        vertical-align: top;\n",
       "    }\n",
       "\n",
       "    .dataframe thead th {\n",
       "        text-align: right;\n",
       "    }\n",
       "</style>\n",
       "<table border=\"1\" class=\"dataframe\">\n",
       "  <thead>\n",
       "    <tr style=\"text-align: right;\">\n",
       "      <th></th>\n",
       "      <th>id</th>\n",
       "      <th>discount_on_product</th>\n",
       "      <th>preparation_time</th>\n",
       "      <th>price</th>\n",
       "      <th>price_before_discount</th>\n",
       "      <th>quantity</th>\n",
       "      <th>updated_at</th>\n",
       "      <th>item_name</th>\n",
       "      <th>chef_name</th>\n",
       "      <th>user_name</th>\n",
       "      <th>category_name</th>\n",
       "      <th>diet_name</th>\n",
       "      <th>item_rating</th>\n",
       "      <th>chef_rating</th>\n",
       "      <th>description</th>\n",
       "      <th>category</th>\n",
       "      <th>incredients</th>\n",
       "      <th>images</th>\n",
       "      <th>item_id</th>\n",
       "      <th>user_id</th>\n",
       "    </tr>\n",
       "  </thead>\n",
       "  <tbody>\n",
       "    <tr>\n",
       "      <th>0</th>\n",
       "      <td>0185cf68-4851-4d80-a10a-1942cdb7faa2</td>\n",
       "      <td>0.00</td>\n",
       "      <td>60</td>\n",
       "      <td>6.00</td>\n",
       "      <td>6.00</td>\n",
       "      <td>1</td>\n",
       "      <td>2022-07-08 21:02:16.533000</td>\n",
       "      <td>Paneer butter masala</td>\n",
       "      <td>Jinu Samuel</td>\n",
       "      <td>Vishnu</td>\n",
       "      <td>Indian</td>\n",
       "      <td>Vegetarian</td>\n",
       "      <td>3</td>\n",
       "      <td>3</td>\n",
       "      <td>Paneer butter Masala</td>\n",
       "      <td>Indian Vegetarian</td>\n",
       "      <td>butter, paneer, onions, tomatoes, cashew  powd...</td>\n",
       "      <td>https://kxbucket.s3.eu-central-1.amazonaws.com...</td>\n",
       "      <td>0</td>\n",
       "      <td>0</td>\n",
       "    </tr>\n",
       "    <tr>\n",
       "      <th>1</th>\n",
       "      <td>026c83cb-8222-47d8-805d-327f2c07c9b3</td>\n",
       "      <td>0.54</td>\n",
       "      <td>30</td>\n",
       "      <td>1.64</td>\n",
       "      <td>2.18</td>\n",
       "      <td>1</td>\n",
       "      <td>2022-06-27 08:59:05.312000</td>\n",
       "      <td>Falafel with Humus</td>\n",
       "      <td>R Rana</td>\n",
       "      <td>Vibin</td>\n",
       "      <td>Turkish</td>\n",
       "      <td>Vegetarian</td>\n",
       "      <td>4</td>\n",
       "      <td>4</td>\n",
       "      <td>Falafel, a crispy pattie (or ball) made from (...</td>\n",
       "      <td>Turkish Vegetarian</td>\n",
       "      <td>Chickpeas, Besan, Onion,  Garlic Cloves, Ginge...</td>\n",
       "      <td>https://kxbucket.s3.eu-central-1.amazonaws.com...</td>\n",
       "      <td>1</td>\n",
       "      <td>1</td>\n",
       "    </tr>\n",
       "  </tbody>\n",
       "</table>\n",
       "</div>"
      ],
      "text/plain": [
       "                                     id  discount_on_product  \\\n",
       "0  0185cf68-4851-4d80-a10a-1942cdb7faa2                 0.00   \n",
       "1  026c83cb-8222-47d8-805d-327f2c07c9b3                 0.54   \n",
       "\n",
       "   preparation_time  price  price_before_discount  quantity  \\\n",
       "0                60   6.00                   6.00         1   \n",
       "1                30   1.64                   2.18         1   \n",
       "\n",
       "                   updated_at             item_name    chef_name user_name  \\\n",
       "0  2022-07-08 21:02:16.533000  Paneer butter masala  Jinu Samuel    Vishnu   \n",
       "1  2022-06-27 08:59:05.312000    Falafel with Humus       R Rana     Vibin   \n",
       "\n",
       "  category_name   diet_name  item_rating  chef_rating  \\\n",
       "0        Indian  Vegetarian            3            3   \n",
       "1       Turkish  Vegetarian            4            4   \n",
       "\n",
       "                                         description            category  \\\n",
       "0                               Paneer butter Masala   Indian Vegetarian   \n",
       "1  Falafel, a crispy pattie (or ball) made from (...  Turkish Vegetarian   \n",
       "\n",
       "                                         incredients  \\\n",
       "0  butter, paneer, onions, tomatoes, cashew  powd...   \n",
       "1  Chickpeas, Besan, Onion,  Garlic Cloves, Ginge...   \n",
       "\n",
       "                                              images  item_id  user_id  \n",
       "0  https://kxbucket.s3.eu-central-1.amazonaws.com...        0        0  \n",
       "1  https://kxbucket.s3.eu-central-1.amazonaws.com...        1        1  "
      ]
     },
     "execution_count": 5,
     "metadata": {},
     "output_type": "execute_result"
    }
   ],
   "source": [
    "data.head(2)"
   ]
  },
  {
   "cell_type": "code",
   "execution_count": 6,
   "id": "f4dc7079",
   "metadata": {},
   "outputs": [],
   "source": [
    "df=data[['user_name','item_id','item_rating','updated_at']]"
   ]
  },
  {
   "cell_type": "code",
   "execution_count": 7,
   "id": "1759e195",
   "metadata": {
    "scrolled": true
   },
   "outputs": [
    {
     "data": {
      "text/html": [
       "<div>\n",
       "<style scoped>\n",
       "    .dataframe tbody tr th:only-of-type {\n",
       "        vertical-align: middle;\n",
       "    }\n",
       "\n",
       "    .dataframe tbody tr th {\n",
       "        vertical-align: top;\n",
       "    }\n",
       "\n",
       "    .dataframe thead th {\n",
       "        text-align: right;\n",
       "    }\n",
       "</style>\n",
       "<table border=\"1\" class=\"dataframe\">\n",
       "  <thead>\n",
       "    <tr style=\"text-align: right;\">\n",
       "      <th></th>\n",
       "      <th>user_name</th>\n",
       "      <th>item_id</th>\n",
       "      <th>item_rating</th>\n",
       "      <th>updated_at</th>\n",
       "    </tr>\n",
       "  </thead>\n",
       "  <tbody>\n",
       "    <tr>\n",
       "      <th>0</th>\n",
       "      <td>Vishnu</td>\n",
       "      <td>0</td>\n",
       "      <td>3</td>\n",
       "      <td>2022-07-08 21:02:16.533000</td>\n",
       "    </tr>\n",
       "    <tr>\n",
       "      <th>1</th>\n",
       "      <td>Vibin</td>\n",
       "      <td>1</td>\n",
       "      <td>4</td>\n",
       "      <td>2022-06-27 08:59:05.312000</td>\n",
       "    </tr>\n",
       "    <tr>\n",
       "      <th>2</th>\n",
       "      <td>R Rana</td>\n",
       "      <td>2</td>\n",
       "      <td>4</td>\n",
       "      <td>2022-07-30 16:05:56.655000</td>\n",
       "    </tr>\n",
       "    <tr>\n",
       "      <th>3</th>\n",
       "      <td>R Rana</td>\n",
       "      <td>3</td>\n",
       "      <td>2</td>\n",
       "      <td>2022-08-04 18:55:42.809000</td>\n",
       "    </tr>\n",
       "    <tr>\n",
       "      <th>4</th>\n",
       "      <td>kookxtra User 4</td>\n",
       "      <td>4</td>\n",
       "      <td>3</td>\n",
       "      <td>2022-07-17 13:05:59.193000</td>\n",
       "    </tr>\n",
       "  </tbody>\n",
       "</table>\n",
       "</div>"
      ],
      "text/plain": [
       "         user_name  item_id  item_rating                  updated_at\n",
       "0           Vishnu        0            3  2022-07-08 21:02:16.533000\n",
       "1            Vibin        1            4  2022-06-27 08:59:05.312000\n",
       "2           R Rana        2            4  2022-07-30 16:05:56.655000\n",
       "3           R Rana        3            2  2022-08-04 18:55:42.809000\n",
       "4  kookxtra User 4        4            3  2022-07-17 13:05:59.193000"
      ]
     },
     "execution_count": 7,
     "metadata": {},
     "output_type": "execute_result"
    }
   ],
   "source": [
    "df.head(5)"
   ]
  },
  {
   "cell_type": "code",
   "execution_count": 8,
   "id": "7223e3d3",
   "metadata": {
    "scrolled": true
   },
   "outputs": [
    {
     "name": "stderr",
     "output_type": "stream",
     "text": [
      "/tmp/ipykernel_20857/3636834585.py:2: SettingWithCopyWarning: \n",
      "A value is trying to be set on a copy of a slice from a DataFrame.\n",
      "Try using .loc[row_indexer,col_indexer] = value instead\n",
      "\n",
      "See the caveats in the documentation: https://pandas.pydata.org/pandas-docs/stable/user_guide/indexing.html#returning-a-view-versus-a-copy\n",
      "  df['date_time'] = pd.to_datetime(df['updated_at'])\n",
      "/tmp/ipykernel_20857/3636834585.py:4: SettingWithCopyWarning: \n",
      "A value is trying to be set on a copy of a slice from a DataFrame.\n",
      "Try using .loc[row_indexer,col_indexer] = value instead\n",
      "\n",
      "See the caveats in the documentation: https://pandas.pydata.org/pandas-docs/stable/user_guide/indexing.html#returning-a-view-versus-a-copy\n",
      "  df['timestamp'] = df.date_time.apply(lambda x: (x-epoch_time).total_seconds())\n"
     ]
    }
   ],
   "source": [
    "from datetime import datetime\n",
    "df['date_time'] = pd.to_datetime(df['updated_at'])\n",
    "epoch_time = datetime(1970, 1, 1)\n",
    "df['timestamp'] = df.date_time.apply(lambda x: (x-epoch_time).total_seconds())"
   ]
  },
  {
   "cell_type": "code",
   "execution_count": 9,
   "id": "e4a5b9f7",
   "metadata": {},
   "outputs": [
    {
     "data": {
      "text/html": [
       "<div>\n",
       "<style scoped>\n",
       "    .dataframe tbody tr th:only-of-type {\n",
       "        vertical-align: middle;\n",
       "    }\n",
       "\n",
       "    .dataframe tbody tr th {\n",
       "        vertical-align: top;\n",
       "    }\n",
       "\n",
       "    .dataframe thead th {\n",
       "        text-align: right;\n",
       "    }\n",
       "</style>\n",
       "<table border=\"1\" class=\"dataframe\">\n",
       "  <thead>\n",
       "    <tr style=\"text-align: right;\">\n",
       "      <th></th>\n",
       "      <th>user_name</th>\n",
       "      <th>item_id</th>\n",
       "      <th>item_rating</th>\n",
       "      <th>updated_at</th>\n",
       "      <th>date_time</th>\n",
       "      <th>timestamp</th>\n",
       "    </tr>\n",
       "  </thead>\n",
       "  <tbody>\n",
       "    <tr>\n",
       "      <th>0</th>\n",
       "      <td>Vishnu</td>\n",
       "      <td>0</td>\n",
       "      <td>3</td>\n",
       "      <td>2022-07-08 21:02:16.533000</td>\n",
       "      <td>2022-07-08 21:02:16.533</td>\n",
       "      <td>1.657314e+09</td>\n",
       "    </tr>\n",
       "    <tr>\n",
       "      <th>1</th>\n",
       "      <td>Vibin</td>\n",
       "      <td>1</td>\n",
       "      <td>4</td>\n",
       "      <td>2022-06-27 08:59:05.312000</td>\n",
       "      <td>2022-06-27 08:59:05.312</td>\n",
       "      <td>1.656320e+09</td>\n",
       "    </tr>\n",
       "    <tr>\n",
       "      <th>2</th>\n",
       "      <td>R Rana</td>\n",
       "      <td>2</td>\n",
       "      <td>4</td>\n",
       "      <td>2022-07-30 16:05:56.655000</td>\n",
       "      <td>2022-07-30 16:05:56.655</td>\n",
       "      <td>1.659197e+09</td>\n",
       "    </tr>\n",
       "    <tr>\n",
       "      <th>3</th>\n",
       "      <td>R Rana</td>\n",
       "      <td>3</td>\n",
       "      <td>2</td>\n",
       "      <td>2022-08-04 18:55:42.809000</td>\n",
       "      <td>2022-08-04 18:55:42.809</td>\n",
       "      <td>1.659639e+09</td>\n",
       "    </tr>\n",
       "    <tr>\n",
       "      <th>4</th>\n",
       "      <td>kookxtra User 4</td>\n",
       "      <td>4</td>\n",
       "      <td>3</td>\n",
       "      <td>2022-07-17 13:05:59.193000</td>\n",
       "      <td>2022-07-17 13:05:59.193</td>\n",
       "      <td>1.658063e+09</td>\n",
       "    </tr>\n",
       "  </tbody>\n",
       "</table>\n",
       "</div>"
      ],
      "text/plain": [
       "         user_name  item_id  item_rating                  updated_at  \\\n",
       "0           Vishnu        0            3  2022-07-08 21:02:16.533000   \n",
       "1            Vibin        1            4  2022-06-27 08:59:05.312000   \n",
       "2           R Rana        2            4  2022-07-30 16:05:56.655000   \n",
       "3           R Rana        3            2  2022-08-04 18:55:42.809000   \n",
       "4  kookxtra User 4        4            3  2022-07-17 13:05:59.193000   \n",
       "\n",
       "                date_time     timestamp  \n",
       "0 2022-07-08 21:02:16.533  1.657314e+09  \n",
       "1 2022-06-27 08:59:05.312  1.656320e+09  \n",
       "2 2022-07-30 16:05:56.655  1.659197e+09  \n",
       "3 2022-08-04 18:55:42.809  1.659639e+09  \n",
       "4 2022-07-17 13:05:59.193  1.658063e+09  "
      ]
     },
     "execution_count": 9,
     "metadata": {},
     "output_type": "execute_result"
    }
   ],
   "source": [
    "df.head(5)"
   ]
  },
  {
   "cell_type": "code",
   "execution_count": 10,
   "id": "33a726f6",
   "metadata": {},
   "outputs": [
    {
     "name": "stderr",
     "output_type": "stream",
     "text": [
      "/tmp/ipykernel_20857/1583645061.py:1: SettingWithCopyWarning: \n",
      "A value is trying to be set on a copy of a slice from a DataFrame\n",
      "\n",
      "See the caveats in the documentation: https://pandas.pydata.org/pandas-docs/stable/user_guide/indexing.html#returning-a-view-versus-a-copy\n",
      "  df.drop(['updated_at','date_time'],axis=1,inplace=True)\n"
     ]
    }
   ],
   "source": [
    "df.drop(['updated_at','date_time'],axis=1,inplace=True)"
   ]
  },
  {
   "cell_type": "code",
   "execution_count": 11,
   "id": "cf0a1754",
   "metadata": {},
   "outputs": [],
   "source": [
    "users=df['user_name'].unique().tolist()"
   ]
  },
  {
   "cell_type": "code",
   "execution_count": 12,
   "id": "f2a27213",
   "metadata": {},
   "outputs": [],
   "source": [
    "#mapping user id to its index in the list ‘users’, ie., key will be the user id and its value will be the index in the list ‘users’\n",
    "user2user_encoded={x:i for i, x in enumerate(users)}\n",
    "\n",
    "#which is the reverse of the previous dictionary, ie., in this case the key becomes the index and the value becomes the user id\n",
    "userencoded2user={i:x for i, x in enumerate(users)}"
   ]
  },
  {
   "cell_type": "code",
   "execution_count": 13,
   "id": "f0629ad4",
   "metadata": {},
   "outputs": [
    {
     "data": {
      "text/plain": [
       "dict_values([0, 1, 2, 3, 4, 5, 6, 7, 8, 9, 10, 11, 12, 13, 14, 15, 16, 17, 18, 19, 20, 21, 22, 23, 24, 25, 26, 27, 28, 29, 30, 31, 32, 33, 34, 35, 36, 37, 38, 39, 40, 41, 42, 43, 44, 45, 46, 47, 48, 49, 50, 51, 52, 53, 54, 55, 56, 57, 58, 59, 60, 61, 62, 63, 64])"
      ]
     },
     "execution_count": 13,
     "metadata": {},
     "output_type": "execute_result"
    }
   ],
   "source": [
    "user2user_encoded.values()\n",
    "#userencoded2user"
   ]
  },
  {
   "cell_type": "code",
   "execution_count": 14,
   "id": "05744b70",
   "metadata": {},
   "outputs": [],
   "source": [
    "items=df['item_id'].unique().tolist()\n",
    "item2item_encoded={x:i for i, x in enumerate(items)}\n",
    "itemencoded2item={i:x for i, x in enumerate(items)}"
   ]
  },
  {
   "cell_type": "code",
   "execution_count": 15,
   "id": "ce4d583d",
   "metadata": {},
   "outputs": [
    {
     "name": "stderr",
     "output_type": "stream",
     "text": [
      "/tmp/ipykernel_20857/2180613619.py:1: SettingWithCopyWarning: \n",
      "A value is trying to be set on a copy of a slice from a DataFrame.\n",
      "Try using .loc[row_indexer,col_indexer] = value instead\n",
      "\n",
      "See the caveats in the documentation: https://pandas.pydata.org/pandas-docs/stable/user_guide/indexing.html#returning-a-view-versus-a-copy\n",
      "  df['user']=df['user_name'].map(user2user_encoded)\n",
      "/tmp/ipykernel_20857/2180613619.py:2: SettingWithCopyWarning: \n",
      "A value is trying to be set on a copy of a slice from a DataFrame.\n",
      "Try using .loc[row_indexer,col_indexer] = value instead\n",
      "\n",
      "See the caveats in the documentation: https://pandas.pydata.org/pandas-docs/stable/user_guide/indexing.html#returning-a-view-versus-a-copy\n",
      "  df['item']=df['item_id'].map(item2item_encoded)\n"
     ]
    }
   ],
   "source": [
    "df['user']=df['user_name'].map(user2user_encoded)\n",
    "df['item']=df['item_id'].map(item2item_encoded)"
   ]
  },
  {
   "cell_type": "code",
   "execution_count": 16,
   "id": "221e61a7",
   "metadata": {},
   "outputs": [
    {
     "data": {
      "text/html": [
       "<div>\n",
       "<style scoped>\n",
       "    .dataframe tbody tr th:only-of-type {\n",
       "        vertical-align: middle;\n",
       "    }\n",
       "\n",
       "    .dataframe tbody tr th {\n",
       "        vertical-align: top;\n",
       "    }\n",
       "\n",
       "    .dataframe thead th {\n",
       "        text-align: right;\n",
       "    }\n",
       "</style>\n",
       "<table border=\"1\" class=\"dataframe\">\n",
       "  <thead>\n",
       "    <tr style=\"text-align: right;\">\n",
       "      <th></th>\n",
       "      <th>user_name</th>\n",
       "      <th>item_id</th>\n",
       "      <th>item_rating</th>\n",
       "      <th>user</th>\n",
       "      <th>item</th>\n",
       "    </tr>\n",
       "  </thead>\n",
       "  <tbody>\n",
       "    <tr>\n",
       "      <th>0</th>\n",
       "      <td>Vishnu</td>\n",
       "      <td>0</td>\n",
       "      <td>3</td>\n",
       "      <td>0</td>\n",
       "      <td>0</td>\n",
       "    </tr>\n",
       "    <tr>\n",
       "      <th>1</th>\n",
       "      <td>Vibin</td>\n",
       "      <td>1</td>\n",
       "      <td>4</td>\n",
       "      <td>1</td>\n",
       "      <td>1</td>\n",
       "    </tr>\n",
       "    <tr>\n",
       "      <th>2</th>\n",
       "      <td>R Rana</td>\n",
       "      <td>2</td>\n",
       "      <td>4</td>\n",
       "      <td>2</td>\n",
       "      <td>2</td>\n",
       "    </tr>\n",
       "    <tr>\n",
       "      <th>3</th>\n",
       "      <td>R Rana</td>\n",
       "      <td>3</td>\n",
       "      <td>2</td>\n",
       "      <td>2</td>\n",
       "      <td>3</td>\n",
       "    </tr>\n",
       "    <tr>\n",
       "      <th>4</th>\n",
       "      <td>kookxtra User 4</td>\n",
       "      <td>4</td>\n",
       "      <td>3</td>\n",
       "      <td>3</td>\n",
       "      <td>4</td>\n",
       "    </tr>\n",
       "  </tbody>\n",
       "</table>\n",
       "</div>"
      ],
      "text/plain": [
       "         user_name  item_id  item_rating  user  item\n",
       "0           Vishnu        0            3     0     0\n",
       "1            Vibin        1            4     1     1\n",
       "2           R Rana        2            4     2     2\n",
       "3           R Rana        3            2     2     3\n",
       "4  kookxtra User 4        4            3     3     4"
      ]
     },
     "execution_count": 16,
     "metadata": {},
     "output_type": "execute_result"
    }
   ],
   "source": [
    "df[['user_name','item_id','item_rating','user','item']].head(5)"
   ]
  },
  {
   "cell_type": "code",
   "execution_count": 17,
   "id": "8bb749be",
   "metadata": {},
   "outputs": [
    {
     "name": "stderr",
     "output_type": "stream",
     "text": [
      "/tmp/ipykernel_20857/3645639239.py:3: SettingWithCopyWarning: \n",
      "A value is trying to be set on a copy of a slice from a DataFrame.\n",
      "Try using .loc[row_indexer,col_indexer] = value instead\n",
      "\n",
      "See the caveats in the documentation: https://pandas.pydata.org/pandas-docs/stable/user_guide/indexing.html#returning-a-view-versus-a-copy\n",
      "  df['item_rating']=df['item_rating'].values.astype(np.float32)\n"
     ]
    }
   ],
   "source": [
    "num_users=len(user2user_encoded)\n",
    "num_items=len(item2item_encoded)\n",
    "df['item_rating']=df['item_rating'].values.astype(np.float32)\n",
    "\n",
    "#min and max ratings will be used tonormalize the ratings\n",
    "min_rating=min(df['item_rating'])\n",
    "max_rating=max(df['item_rating'])\n",
    "\n"
   ]
  },
  {
   "cell_type": "code",
   "execution_count": 18,
   "id": "e578266a",
   "metadata": {},
   "outputs": [
    {
     "name": "stdout",
     "output_type": "stream",
     "text": [
      "Number of users: 65, Number of items: 57, Min rating: 2.0, Max rating: 5.0\n"
     ]
    }
   ],
   "source": [
    "print('Number of users: {}, Number of items: {}, Min rating: {}, Max rating: {}'.format(num_users,num_items,min_rating,max_rating))"
   ]
  },
  {
   "cell_type": "code",
   "execution_count": 19,
   "id": "9ef184bd",
   "metadata": {},
   "outputs": [],
   "source": [
    "df=df.sample(frac=1,random_state=42) #randomly sample the dataset\n",
    "x=df[['user','item']]\n",
    "\n",
    "#normalize the targets between 0 and 1 makes it easy to train\n",
    "y=df['item_rating'].apply(lambda x: (x-min_rating)/(max_rating-min_rating)).values\n",
    "\n",
    "#assuming training on 90%data and validating on 10%\n",
    "\n",
    "train_indices=int(0.9*df.shape[0])\n",
    "x_train,x_val,y_train,y_test = (x[:train_indices],x[train_indices:],y[:train_indices],y[train_indices:])"
   ]
  },
  {
   "cell_type": "code",
   "execution_count": 20,
   "id": "7ab1044a",
   "metadata": {},
   "outputs": [
    {
     "data": {
      "text/plain": [
       "(149, 2)"
      ]
     },
     "execution_count": 20,
     "metadata": {},
     "output_type": "execute_result"
    }
   ],
   "source": [
    "x_train.shape"
   ]
  },
  {
   "cell_type": "code",
   "execution_count": 21,
   "id": "ad7b097e",
   "metadata": {},
   "outputs": [
    {
     "data": {
      "text/plain": [
       "(17, 2)"
      ]
     },
     "execution_count": 21,
     "metadata": {},
     "output_type": "execute_result"
    }
   ],
   "source": [
    "x_val.shape"
   ]
  },
  {
   "cell_type": "code",
   "execution_count": 22,
   "id": "e96c9be3",
   "metadata": {},
   "outputs": [
    {
     "data": {
      "image/png": "[encoded data removed]",
      "text/plain": [
       "<IPython.core.display.Image object>"
      ]
     },
     "execution_count": 22,
     "metadata": {},
     "output_type": "execute_result"
    }
   ],
   "source": [
    "embedding_size=50\n",
    "\n",
    "user_ips=layers.Input(shape=[1])\n",
    "user_embedding=layers.Embedding(num_users,embedding_size,embeddings_initializer='he_normal',embeddings_regularizer=keras.regularizers.l2(1e-6))(user_ips)\n",
    "\n",
    "user_vect=layers.Flatten()(user_embedding)\n",
    "\n",
    "item_ips=layers.Input(shape=[1])\n",
    "item_embedding=layers.Embedding(num_items,embedding_size,embeddings_initializer='he_normal',embeddings_regularizer=keras.regularizers.l2(1e-6))(item_ips)\n",
    "\n",
    "item_vect=layers.Flatten()(item_embedding)\n",
    "\n",
    "prod=layers.dot(inputs=[user_vect,item_vect],axes=1)\n",
    "\n",
    "dense1=layers.Dense(150,activation='relu', kernel_initializer='he_normal')(prod)\n",
    "dense2=layers.Dense(50,activation='relu',kernel_initializer='he_normal')(dense1)\n",
    "dense3=layers.Dense(1,activation='relu')(dense2)\n",
    "\n",
    "model=Model([user_ips,item_ips],dense3)\n",
    "model.compile(optimizer='adam',loss='mean_squared_error')\n",
    "\n",
    "keras.utils.plot_model(model,show_shapes=True)\n"
   ]
  },
  {
   "cell_type": "code",
   "execution_count": 23,
   "id": "09b112be",
   "metadata": {},
   "outputs": [
    {
     "data": {
      "text/html": [
       "<div>\n",
       "<style scoped>\n",
       "    .dataframe tbody tr th:only-of-type {\n",
       "        vertical-align: middle;\n",
       "    }\n",
       "\n",
       "    .dataframe tbody tr th {\n",
       "        vertical-align: top;\n",
       "    }\n",
       "\n",
       "    .dataframe thead th {\n",
       "        text-align: right;\n",
       "    }\n",
       "</style>\n",
       "<table border=\"1\" class=\"dataframe\">\n",
       "  <thead>\n",
       "    <tr style=\"text-align: right;\">\n",
       "      <th></th>\n",
       "      <th>user</th>\n",
       "    </tr>\n",
       "  </thead>\n",
       "  <tbody>\n",
       "    <tr>\n",
       "      <th>100</th>\n",
       "      <td>5</td>\n",
       "    </tr>\n",
       "    <tr>\n",
       "      <th>136</th>\n",
       "      <td>59</td>\n",
       "    </tr>\n",
       "  </tbody>\n",
       "</table>\n",
       "</div>"
      ],
      "text/plain": [
       "     user\n",
       "100     5\n",
       "136    59"
      ]
     },
     "execution_count": 23,
     "metadata": {},
     "output_type": "execute_result"
    }
   ],
   "source": [
    "x_train.iloc[0:2,0:1]"
   ]
  },
  {
   "cell_type": "code",
   "execution_count": 24,
   "id": "86a722b4",
   "metadata": {
    "scrolled": true
   },
   "outputs": [
    {
     "name": "stdout",
     "output_type": "stream",
     "text": [
      "Epoch 1/10\n",
      "3/3 [==============================] - 0s 3ms/step - loss: 0.1333\n",
      "Epoch 2/10\n",
      "3/3 [==============================] - 0s 3ms/step - loss: 0.1244\n",
      "Epoch 3/10\n",
      "3/3 [==============================] - 0s 4ms/step - loss: 0.1144\n",
      "Epoch 4/10\n",
      "3/3 [==============================] - 0s 2ms/step - loss: 0.0772\n",
      "Epoch 5/10\n",
      "3/3 [==============================] - 0s 3ms/step - loss: 0.0660\n",
      "Epoch 6/10\n",
      "3/3 [==============================] - 0s 3ms/step - loss: 0.0580\n",
      "Epoch 7/10\n",
      "3/3 [==============================] - 0s 3ms/step - loss: 0.0473\n",
      "Epoch 8/10\n",
      "3/3 [==============================] - 0s 4ms/step - loss: 0.0478\n",
      "Epoch 9/10\n",
      "3/3 [==============================] - 0s 2ms/step - loss: 0.0439\n",
      "Epoch 10/10\n",
      "3/3 [==============================] - 0s 3ms/step - loss: 0.0367\n"
     ]
    }
   ],
   "source": [
    "history=model.fit([x_train.iloc[:,0], x_train.iloc[:,1]], y_train, batch_size=64, epochs=10, verbose=1)"
   ]
  },
  {
   "cell_type": "code",
   "execution_count": 25,
   "id": "c487f9e6",
   "metadata": {},
   "outputs": [
    {
     "name": "stdout",
     "output_type": "stream",
     "text": [
      "1/1 [==============================] - 0s 62ms/step\n"
     ]
    },
    {
     "data": {
      "text/plain": [
       "array([[0.33894622]], dtype=float32)"
      ]
     },
     "execution_count": 25,
     "metadata": {},
     "output_type": "execute_result"
    }
   ],
   "source": [
    "pred= model.predict([x_train.iloc[4:5,0], x_train.iloc[4:5,1]])\n",
    "pred"
   ]
  },
  {
   "cell_type": "code",
   "execution_count": 26,
   "id": "26923c45",
   "metadata": {},
   "outputs": [],
   "source": [
    "item_df=data[['item_id','item_name','category']]"
   ]
  },
  {
   "cell_type": "code",
   "execution_count": 27,
   "id": "e2718122",
   "metadata": {},
   "outputs": [],
   "source": [
    "item_df=item_df.drop_duplicates()"
   ]
  },
  {
   "cell_type": "code",
   "execution_count": 28,
   "id": "e3cae641",
   "metadata": {},
   "outputs": [
    {
     "data": {
      "text/plain": [
       "(57, 3)"
      ]
     },
     "execution_count": 28,
     "metadata": {},
     "output_type": "execute_result"
    }
   ],
   "source": [
    "item_df.shape"
   ]
  },
  {
   "cell_type": "code",
   "execution_count": 29,
   "id": "a3dc2ed5",
   "metadata": {
    "scrolled": true
   },
   "outputs": [],
   "source": [
    "#pickle.dump(item_df,open('item_df.pkl','wb'))"
   ]
  },
  {
   "cell_type": "code",
   "execution_count": 78,
   "id": "88866130",
   "metadata": {},
   "outputs": [],
   "source": [
    "customer=df.user_name.sample(1).iloc[0]\n",
    "items_prefered_by_user=df[df.user_name==customer]\n",
    "items_not_prefered=item_df[ ~item_df['item_id'].isin(items_prefered_by_user.item.values)]['item_id']"
   ]
  },
  {
   "cell_type": "code",
   "execution_count": 79,
   "id": "371f29fd",
   "metadata": {},
   "outputs": [
    {
     "data": {
      "text/plain": [
       "'Nakul chandra'"
      ]
     },
     "execution_count": 79,
     "metadata": {},
     "output_type": "execute_result"
    }
   ],
   "source": [
    "customer"
   ]
  },
  {
   "cell_type": "code",
   "execution_count": 74,
   "id": "b5471432",
   "metadata": {
    "scrolled": true
   },
   "outputs": [
    {
     "data": {
      "text/plain": [
       "'sunaina joseph'"
      ]
     },
     "execution_count": 74,
     "metadata": {},
     "output_type": "execute_result"
    }
   ],
   "source": [
    "df.user_name.sample(1).iloc[0]"
   ]
  },
  {
   "cell_type": "code",
   "execution_count": 80,
   "id": "e6c0aac9",
   "metadata": {},
   "outputs": [
    {
     "data": {
      "text/html": [
       "<div>\n",
       "<style scoped>\n",
       "    .dataframe tbody tr th:only-of-type {\n",
       "        vertical-align: middle;\n",
       "    }\n",
       "\n",
       "    .dataframe tbody tr th {\n",
       "        vertical-align: top;\n",
       "    }\n",
       "\n",
       "    .dataframe thead th {\n",
       "        text-align: right;\n",
       "    }\n",
       "</style>\n",
       "<table border=\"1\" class=\"dataframe\">\n",
       "  <thead>\n",
       "    <tr style=\"text-align: right;\">\n",
       "      <th></th>\n",
       "      <th>item_id</th>\n",
       "      <th>item_name</th>\n",
       "      <th>category</th>\n",
       "    </tr>\n",
       "  </thead>\n",
       "  <tbody>\n",
       "    <tr>\n",
       "      <th>77</th>\n",
       "      <td>32</td>\n",
       "      <td>Onam Sadya</td>\n",
       "      <td>Indian Vegetarian</td>\n",
       "    </tr>\n",
       "  </tbody>\n",
       "</table>\n",
       "</div>"
      ],
      "text/plain": [
       "    item_id   item_name           category\n",
       "77       32  Onam Sadya  Indian Vegetarian"
      ]
     },
     "execution_count": 80,
     "metadata": {},
     "output_type": "execute_result"
    }
   ],
   "source": [
    "item_df[item_df['item_id'].isin(items_prefered_by_user.item.values)]"
   ]
  },
  {
   "cell_type": "code",
   "execution_count": 81,
   "id": "0e33ea4e",
   "metadata": {
    "scrolled": true
   },
   "outputs": [
    {
     "data": {
      "text/html": [
       "<div>\n",
       "<style scoped>\n",
       "    .dataframe tbody tr th:only-of-type {\n",
       "        vertical-align: middle;\n",
       "    }\n",
       "\n",
       "    .dataframe tbody tr th {\n",
       "        vertical-align: top;\n",
       "    }\n",
       "\n",
       "    .dataframe thead th {\n",
       "        text-align: right;\n",
       "    }\n",
       "</style>\n",
       "<table border=\"1\" class=\"dataframe\">\n",
       "  <thead>\n",
       "    <tr style=\"text-align: right;\">\n",
       "      <th></th>\n",
       "      <th>user_name</th>\n",
       "      <th>item_id</th>\n",
       "      <th>item_rating</th>\n",
       "      <th>timestamp</th>\n",
       "      <th>user</th>\n",
       "      <th>item</th>\n",
       "    </tr>\n",
       "  </thead>\n",
       "  <tbody>\n",
       "    <tr>\n",
       "      <th>81</th>\n",
       "      <td>Nakul chandra</td>\n",
       "      <td>32</td>\n",
       "      <td>3.0</td>\n",
       "      <td>1.662500e+09</td>\n",
       "      <td>37</td>\n",
       "      <td>32</td>\n",
       "    </tr>\n",
       "  </tbody>\n",
       "</table>\n",
       "</div>"
      ],
      "text/plain": [
       "        user_name  item_id  item_rating     timestamp  user  item\n",
       "81  Nakul chandra       32          3.0  1.662500e+09    37    32"
      ]
     },
     "execution_count": 81,
     "metadata": {},
     "output_type": "execute_result"
    }
   ],
   "source": [
    "items_prefered_by_user"
   ]
  },
  {
   "cell_type": "code",
   "execution_count": 82,
   "id": "c6d8ca93",
   "metadata": {},
   "outputs": [
    {
     "data": {
      "text/plain": [
       "56"
      ]
     },
     "execution_count": 82,
     "metadata": {},
     "output_type": "execute_result"
    }
   ],
   "source": [
    "len(items_not_prefered)"
   ]
  },
  {
   "cell_type": "code",
   "execution_count": 83,
   "id": "79224ddd",
   "metadata": {},
   "outputs": [
    {
     "data": {
      "text/plain": [
       "'Nakul chandra'"
      ]
     },
     "execution_count": 83,
     "metadata": {},
     "output_type": "execute_result"
    }
   ],
   "source": [
    "customer"
   ]
  },
  {
   "cell_type": "code",
   "execution_count": 84,
   "id": "1a407e13",
   "metadata": {},
   "outputs": [],
   "source": [
    "items_not_prefered=list(set(items_not_prefered).intersection(set(item2item_encoded.keys())))"
   ]
  },
  {
   "cell_type": "code",
   "execution_count": 85,
   "id": "781ac5d9",
   "metadata": {},
   "outputs": [
    {
     "data": {
      "text/plain": [
       "56"
      ]
     },
     "execution_count": 85,
     "metadata": {},
     "output_type": "execute_result"
    }
   ],
   "source": [
    "len(items_not_prefered)"
   ]
  },
  {
   "cell_type": "code",
   "execution_count": 86,
   "id": "36c8bf4c",
   "metadata": {},
   "outputs": [],
   "source": [
    "items_not_prefered_index=[[item2item_encoded.get(x)] for x in items_not_prefered]\n",
    "#items_not_prefered_index"
   ]
  },
  {
   "cell_type": "code",
   "execution_count": 87,
   "id": "9c2a625a",
   "metadata": {},
   "outputs": [
    {
     "data": {
      "text/plain": [
       "37"
      ]
     },
     "execution_count": 87,
     "metadata": {},
     "output_type": "execute_result"
    }
   ],
   "source": [
    "user_encoder=user2user_encoded.get(customer)\n",
    "user_encoder"
   ]
  },
  {
   "cell_type": "code",
   "execution_count": 70,
   "id": "52631a54",
   "metadata": {},
   "outputs": [
    {
     "data": {
      "text/plain": [
       "{'Vishnu': 0,\n",
       " 'Vibin': 1,\n",
       " 'R Rana': 2,\n",
       " 'kookxtra User 4': 3,\n",
       " 'Amal Jo Mathew': 4,\n",
       " 'kookxtra User 8': 5,\n",
       " 'kookxtra User 6': 6,\n",
       " 'kookxtra User 9': 7,\n",
       " 'kookxtra User 2': 8,\n",
       " 'Krishnaprasad Kodamana': 9,\n",
       " 'kookxtra User 5': 10,\n",
       " 'Kx ASP': 11,\n",
       " 'Debaditya Roy': 12,\n",
       " 'Tom': 13,\n",
       " 'Manan Vohra': 14,\n",
       " 'Murad': 15,\n",
       " 'Alexandra': 16,\n",
       " 'Rakesh Kumar': 17,\n",
       " 'kookxtra User 3': 18,\n",
       " 'kookxtra User 1': 19,\n",
       " 'venkat': 20,\n",
       " 'Eduard Budacu': 21,\n",
       " 'Anitta pk': 22,\n",
       " 'Art Srisayam': 23,\n",
       " 'sunaina joseph': 24,\n",
       " 'Shiju': 25,\n",
       " 'Guto': 26,\n",
       " 'Samad': 27,\n",
       " 'kookxtra User 11': 28,\n",
       " 'Anca': 29,\n",
       " 'Agata': 30,\n",
       " 'Donald de Jong': 31,\n",
       " 'Shaun Thomas': 32,\n",
       " 'kookxtra User': 33,\n",
       " 'Sara': 34,\n",
       " 'Christine': 35,\n",
       " 'Tom Joseph': 36,\n",
       " 'Nakul chandra': 37,\n",
       " 'Jeena Mathews': 38,\n",
       " 'Lakshmi Karat ': 39,\n",
       " 'kookxtra User 18': 40,\n",
       " 'kookxtra User 19': 41,\n",
       " 'Saudamini ': 42,\n",
       " 'Jibu Chacko': 43,\n",
       " 'Nimisha': 44,\n",
       " 'kookxtra User 14': 45,\n",
       " 'mihaela azoitei': 46,\n",
       " 'Sunil Babu': 47,\n",
       " 'kookxtra User 15': 48,\n",
       " 'Jiji': 49,\n",
       " 'Rincy Sara': 50,\n",
       " 'kookxtra User 21': 51,\n",
       " 'Jobin Daniel': 52,\n",
       " 'kookxtra User 13': 53,\n",
       " 'Haider': 54,\n",
       " 'Hilde Roskam': 55,\n",
       " 'Sherida ': 56,\n",
       " 'kookxtra User 20': 57,\n",
       " 'Rohit Ramesh': 58,\n",
       " 'Rinku': 59,\n",
       " 'Manu ': 60,\n",
       " 'kookxtra User 16': 61,\n",
       " 'kookxtra User 22': 62,\n",
       " 'Santosh ': 63,\n",
       " 'Madhu Kudukkasseri ': 64}"
      ]
     },
     "execution_count": 70,
     "metadata": {},
     "output_type": "execute_result"
    }
   ],
   "source": [
    "user2user_encoded"
   ]
  },
  {
   "cell_type": "code",
   "execution_count": 88,
   "id": "c2c1e414",
   "metadata": {},
   "outputs": [
    {
     "data": {
      "text/plain": [
       "array([[37,  0],\n",
       "       [37,  1],\n",
       "       [37,  2],\n",
       "       [37,  3],\n",
       "       [37,  4],\n",
       "       [37,  5],\n",
       "       [37,  6],\n",
       "       [37,  7],\n",
       "       [37,  8],\n",
       "       [37,  9],\n",
       "       [37, 10],\n",
       "       [37, 11],\n",
       "       [37, 12],\n",
       "       [37, 13],\n",
       "       [37, 14],\n",
       "       [37, 15],\n",
       "       [37, 16],\n",
       "       [37, 17],\n",
       "       [37, 18],\n",
       "       [37, 19],\n",
       "       [37, 20],\n",
       "       [37, 21],\n",
       "       [37, 22],\n",
       "       [37, 23],\n",
       "       [37, 24],\n",
       "       [37, 25],\n",
       "       [37, 26],\n",
       "       [37, 27],\n",
       "       [37, 28],\n",
       "       [37, 29],\n",
       "       [37, 30],\n",
       "       [37, 31],\n",
       "       [37, 33],\n",
       "       [37, 34],\n",
       "       [37, 35],\n",
       "       [37, 36],\n",
       "       [37, 37],\n",
       "       [37, 38],\n",
       "       [37, 39],\n",
       "       [37, 40],\n",
       "       [37, 41],\n",
       "       [37, 42],\n",
       "       [37, 43],\n",
       "       [37, 44],\n",
       "       [37, 45],\n",
       "       [37, 46],\n",
       "       [37, 47],\n",
       "       [37, 48],\n",
       "       [37, 49],\n",
       "       [37, 50],\n",
       "       [37, 51],\n",
       "       [37, 52],\n",
       "       [37, 53],\n",
       "       [37, 54],\n",
       "       [37, 55],\n",
       "       [37, 56]])"
      ]
     },
     "execution_count": 88,
     "metadata": {},
     "output_type": "execute_result"
    }
   ],
   "source": [
    "user_item_array=np.hstack(([[user_encoder]] * len(items_not_prefered), items_not_prefered_index))\n",
    "user_item_array"
   ]
  },
  {
   "cell_type": "code",
   "execution_count": 90,
   "id": "815b68ac",
   "metadata": {},
   "outputs": [
    {
     "name": "stdout",
     "output_type": "stream",
     "text": [
      "2/2 [==============================] - 0s 2ms/step\n"
     ]
    },
    {
     "data": {
      "text/plain": [
       "array([0.31427646, 0.42634377, 0.30034515, 0.30294326, 0.38071477,\n",
       "       0.25092778, 0.3496825 , 0.31260574, 0.16053605, 0.39001206,\n",
       "       0.37628734, 0.3256227 , 0.46784508, 0.34837434, 0.5697324 ,\n",
       "       0.186744  , 0.33238435, 0.38758916, 0.4420956 , 0.24433967,\n",
       "       0.26616162, 0.3113353 , 0.3267408 , 0.3815397 , 0.41313615,\n",
       "       0.30661812, 0.58760744, 0.34201413, 0.42948607, 0.35716775,\n",
       "       0.15904887, 0.35811022, 0.38620695, 0.3470501 , 0.3260566 ,\n",
       "       0.41738725, 0.2380679 , 0.16059911, 0.30413607, 0.24135977,\n",
       "       0.17119484, 0.4127664 , 0.4253391 , 0.42538264, 0.30680946,\n",
       "       0.39717576, 0.24551651, 0.32816043, 0.46390426, 0.52392226,\n",
       "       0.31389722, 0.39476725, 0.5607984 , 0.33908373, 0.30170634,\n",
       "       0.47054613], dtype=float32)"
      ]
     },
     "execution_count": 90,
     "metadata": {},
     "output_type": "execute_result"
    }
   ],
   "source": [
    "ratings=model.predict([user_item_array[:,0],user_item_array[:,1]]).flatten()\n",
    "ratings"
   ]
  },
  {
   "cell_type": "code",
   "execution_count": 91,
   "id": "6ec9e41f",
   "metadata": {},
   "outputs": [],
   "source": [
    "top_rating_indices = ratings.argsort()[-5:][::-1]"
   ]
  },
  {
   "cell_type": "code",
   "execution_count": 92,
   "id": "ab820bff",
   "metadata": {},
   "outputs": [
    {
     "data": {
      "text/plain": [
       "array([26, 14, 52, 49, 55])"
      ]
     },
     "execution_count": 92,
     "metadata": {},
     "output_type": "execute_result"
    }
   ],
   "source": [
    "top_rating_indices"
   ]
  },
  {
   "cell_type": "code",
   "execution_count": 65,
   "id": "291db4ab",
   "metadata": {},
   "outputs": [
    {
     "data": {
      "text/plain": [
       "array([50, 47,  4, 44,  1])"
      ]
     },
     "execution_count": 65,
     "metadata": {},
     "output_type": "execute_result"
    }
   ],
   "source": [
    "top_rating_indices"
   ]
  },
  {
   "cell_type": "code",
   "execution_count": 93,
   "id": "6b258203",
   "metadata": {},
   "outputs": [],
   "source": [
    "recommended_item_ids = [itemencoded2item.get(items_not_prefered_index[x][0]) for x in top_rating_indices]"
   ]
  },
  {
   "cell_type": "code",
   "execution_count": 94,
   "id": "e5ca3456",
   "metadata": {},
   "outputs": [
    {
     "name": "stdout",
     "output_type": "stream",
     "text": [
      "showing recommendations for user: Nakul chandra\n",
      "====================================\n",
      "Items with high ratings from user\n",
      "--------------------------------\n",
      "Onam Sadya : Indian Vegetarian\n"
     ]
    }
   ],
   "source": [
    "print('showing recommendations for user: {}'.format(customer))\n",
    "print('===='*9)\n",
    "print('Items with high ratings from user')\n",
    "print('----'*8)\n",
    "top_movies_user = (items_prefered_by_user.sort_values(by='item_rating',ascending=False).head(5).item_id.values )\n",
    "\n",
    "item_df_rows = item_df[item_df['item_id'].isin(top_movies_user)]\n",
    "for row in item_df_rows.itertuples():\n",
    "    print(row.item_name, ':', row.category)"
   ]
  },
  {
   "cell_type": "code",
   "execution_count": 95,
   "id": "4324037e",
   "metadata": {},
   "outputs": [
    {
     "name": "stdout",
     "output_type": "stream",
     "text": [
      "--------------------------------\n",
      "Top 5 food recommendations\n",
      "--------------------------------\n",
      "Acaraje family box : Brazilian Non Vegetarian\n",
      "Vegan Kunefe : Middle Eastern Vegetarian\n",
      "chicken pakora : Indian 100% Halal\n",
      "Vegetable cutlet : Indian Vegetarian\n",
      "Daal Makhani : Indian Vegetarian\n"
     ]
    }
   ],
   "source": [
    "print('----'*8)\n",
    "print('Top 5 food recommendations')\n",
    "print('----'*8)\n",
    "recommended_items= item_df[item_df['item_id'].isin(recommended_item_ids)]\n",
    "for row in recommended_items.itertuples():\n",
    "    print(row.item_name, ':', row.category)"
   ]
  },
  {
   "cell_type": "code",
   "execution_count": 96,
   "id": "64c9c982",
   "metadata": {},
   "outputs": [
    {
     "name": "stdout",
     "output_type": "stream",
     "text": [
      "--------------------------------\n",
      "Top 5 food recommendations\n",
      "--------------------------------\n",
      "Acaraje family box : Brazilian Non Vegetarian\n"
     ]
    },
    {
     "data": {
      "image/png": "[encoded data removed]",
      "text/plain": [
       "<PIL.Image.Image image mode=RGB size=150x150 at 0x7F948C43EB90>"
      ]
     },
     "metadata": {},
     "output_type": "display_data"
    },
    {
     "name": "stdout",
     "output_type": "stream",
     "text": [
      "Vegan Kunefe : Middle Eastern Vegetarian\n"
     ]
    },
    {
     "data": {
      "image/png": "[encoded data removed]",
      "text/plain": [
       "<PIL.Image.Image image mode=RGB size=150x150 at 0x7F948C418670>"
      ]
     },
     "metadata": {},
     "output_type": "display_data"
    },
    {
     "name": "stdout",
     "output_type": "stream",
     "text": [
      "chicken pakora : Indian 100% Halal\n"
     ]
    },
    {
     "data": {
      "image/png": "[encoded data removed]",
      "text/plain": [
       "<PIL.Image.Image image mode=RGB size=150x150 at 0x7F948C4443A0>"
      ]
     },
     "metadata": {},
     "output_type": "display_data"
    },
    {
     "name": "stdout",
     "output_type": "stream",
     "text": [
      "Vegetable cutlet : Indian Vegetarian\n"
     ]
    },
    {
     "data": {
      "image/png": "[encoded data removed]",
      "text/plain": [
       "<PIL.Image.Image image mode=RGB size=150x150 at 0x7F948D14E8C0>"
      ]
     },
     "metadata": {},
     "output_type": "display_data"
    },
    {
     "name": "stdout",
     "output_type": "stream",
     "text": [
      "Daal Makhani : Indian Vegetarian\n"
     ]
    },
    {
     "data": {
      "image/png": "[encoded data removed]",
      "text/plain": [
       "<PIL.Image.Image image mode=RGB size=150x150 at 0x7F948D199690>"
      ]
     },
     "metadata": {},
     "output_type": "display_data"
    }
   ],
   "source": [
    "print('----'*8)\n",
    "print('Top 5 food recommendations')\n",
    "print('----'*8)\n",
    "recommended_items= item_df[item_df['item_id'].isin(recommended_item_ids)]\n",
    "for row in recommended_items.itertuples():\n",
    "    print(row.item_name, ':', row.category)\n",
    "    ima=url_to_image(image[image['item_name'] == row.item_name]['images'].values[0])\n",
    "    display(ima)\n",
    "    \n"
   ]
  },
  {
   "cell_type": "code",
   "execution_count": 59,
   "id": "910eff70",
   "metadata": {},
   "outputs": [
    {
     "data": {
      "text/plain": [
       "['https://kxbucket.s3.eu-central-1.amazonaws.com/Items/Malabar_Chicken_Dum_Biriyani_6264BF5D_01B1_42FE_8E2B_2D33EA5C2CF9350307840590990.jpeg',\n",
       " 'https://kxbucket.s3.eu-central-1.amazonaws.com/Items/ACARAJ____data_user_0_com2112672588608863.kookxtra',\n",
       " 'https://kxbucket.s3.eu-central-1.amazonaws.com/Items/Chicken_curry__private_var_mobile_Containers_Data_Application_C6470AE0_46AB_4B56_8C8B_D833E73A22C7_tmp_image_cropper_925376AD_367B_4812_9A29_319954DC8179_698_000000BBE15F39EF1152962046574038.jpg',\n",
       " 'https://kxbucket.s3.eu-central-1.amazonaws.com/Items/Moqueca_with_Fish__Rice_and_Pir_o__data_user_0_com2113386552930097.kookxtra',\n",
       " 'https://kxbucket.s3.eu-central-1.amazonaws.com/Items/Chole_bhature__private_var_mobile_Containers_Data_Application_FAE21BAE_2474_4EB0_B1B6_8DEB6AE23BD8_tmp_image_cropper_D53041AE_BEFF_4EF3_8F44_770D1BA27B29_343_000003031675F9931483713744407257.jpg']"
      ]
     },
     "execution_count": 59,
     "metadata": {},
     "output_type": "execute_result"
    }
   ],
   "source": [
    "lis=[]\n",
    "pictures=[]\n",
    "for row in recommended_items.itertuples():\n",
    "    lis.append(row.item_name)\n",
    "    pictures.append(image[image['item_name'] == row.item_name]['images'].values[0])\n",
    "\n"
   ]
  },
  {
   "cell_type": "code",
   "execution_count": 27,
   "id": "b723864f",
   "metadata": {},
   "outputs": [],
   "source": [
    "import pickle"
   ]
  },
  {
   "cell_type": "code",
   "execution_count": null,
   "id": "3664e996",
   "metadata": {},
   "outputs": [],
   "source": [
    "pickle.dump(similarity,open('similarity.pkl','wb'))"
   ]
  },
  {
   "cell_type": "code",
   "execution_count": 44,
   "id": "e942042c",
   "metadata": {},
   "outputs": [],
   "source": [
    "pickle.dump(df,open('data.pkl','wb'))\n"
   ]
  },
  {
   "cell_type": "code",
   "execution_count": 41,
   "id": "5436c3fd",
   "metadata": {},
   "outputs": [
    {
     "data": {
      "text/html": [
       "<div>\n",
       "<style scoped>\n",
       "    .dataframe tbody tr th:only-of-type {\n",
       "        vertical-align: middle;\n",
       "    }\n",
       "\n",
       "    .dataframe tbody tr th {\n",
       "        vertical-align: top;\n",
       "    }\n",
       "\n",
       "    .dataframe thead th {\n",
       "        text-align: right;\n",
       "    }\n",
       "</style>\n",
       "<table border=\"1\" class=\"dataframe\">\n",
       "  <thead>\n",
       "    <tr style=\"text-align: right;\">\n",
       "      <th></th>\n",
       "      <th>user_name</th>\n",
       "      <th>item_id</th>\n",
       "      <th>item_rating</th>\n",
       "      <th>timestamp</th>\n",
       "      <th>user</th>\n",
       "      <th>item</th>\n",
       "    </tr>\n",
       "  </thead>\n",
       "  <tbody>\n",
       "    <tr>\n",
       "      <th>100</th>\n",
       "      <td>kookxtra User 8</td>\n",
       "      <td>42</td>\n",
       "      <td>3.0</td>\n",
       "      <td>1.660654e+09</td>\n",
       "      <td>5</td>\n",
       "      <td>42</td>\n",
       "    </tr>\n",
       "    <tr>\n",
       "      <th>136</th>\n",
       "      <td>Rinku</td>\n",
       "      <td>36</td>\n",
       "      <td>2.0</td>\n",
       "      <td>1.660577e+09</td>\n",
       "      <td>59</td>\n",
       "      <td>36</td>\n",
       "    </tr>\n",
       "    <tr>\n",
       "      <th>78</th>\n",
       "      <td>Christine</td>\n",
       "      <td>33</td>\n",
       "      <td>2.0</td>\n",
       "      <td>1.663759e+09</td>\n",
       "      <td>35</td>\n",
       "      <td>33</td>\n",
       "    </tr>\n",
       "    <tr>\n",
       "      <th>56</th>\n",
       "      <td>Guto</td>\n",
       "      <td>16</td>\n",
       "      <td>3.0</td>\n",
       "      <td>1.660152e+09</td>\n",
       "      <td>26</td>\n",
       "      <td>16</td>\n",
       "    </tr>\n",
       "    <tr>\n",
       "      <th>97</th>\n",
       "      <td>Christine</td>\n",
       "      <td>41</td>\n",
       "      <td>3.0</td>\n",
       "      <td>1.663759e+09</td>\n",
       "      <td>35</td>\n",
       "      <td>41</td>\n",
       "    </tr>\n",
       "    <tr>\n",
       "      <th>...</th>\n",
       "      <td>...</td>\n",
       "      <td>...</td>\n",
       "      <td>...</td>\n",
       "      <td>...</td>\n",
       "      <td>...</td>\n",
       "      <td>...</td>\n",
       "    </tr>\n",
       "    <tr>\n",
       "      <th>71</th>\n",
       "      <td>Donald de Jong</td>\n",
       "      <td>28</td>\n",
       "      <td>2.0</td>\n",
       "      <td>1.662377e+09</td>\n",
       "      <td>31</td>\n",
       "      <td>28</td>\n",
       "    </tr>\n",
       "    <tr>\n",
       "      <th>106</th>\n",
       "      <td>Sara</td>\n",
       "      <td>31</td>\n",
       "      <td>3.0</td>\n",
       "      <td>1.661194e+09</td>\n",
       "      <td>34</td>\n",
       "      <td>31</td>\n",
       "    </tr>\n",
       "    <tr>\n",
       "      <th>14</th>\n",
       "      <td>R Rana</td>\n",
       "      <td>10</td>\n",
       "      <td>2.0</td>\n",
       "      <td>1.658348e+09</td>\n",
       "      <td>2</td>\n",
       "      <td>10</td>\n",
       "    </tr>\n",
       "    <tr>\n",
       "      <th>92</th>\n",
       "      <td>kookxtra User</td>\n",
       "      <td>37</td>\n",
       "      <td>2.0</td>\n",
       "      <td>1.661187e+09</td>\n",
       "      <td>33</td>\n",
       "      <td>37</td>\n",
       "    </tr>\n",
       "    <tr>\n",
       "      <th>102</th>\n",
       "      <td>mihaela azoitei</td>\n",
       "      <td>2</td>\n",
       "      <td>4.0</td>\n",
       "      <td>1.660572e+09</td>\n",
       "      <td>46</td>\n",
       "      <td>2</td>\n",
       "    </tr>\n",
       "  </tbody>\n",
       "</table>\n",
       "<p>166 rows × 6 columns</p>\n",
       "</div>"
      ],
      "text/plain": [
       "           user_name  item_id  item_rating     timestamp  user  item\n",
       "100  kookxtra User 8       42          3.0  1.660654e+09     5    42\n",
       "136            Rinku       36          2.0  1.660577e+09    59    36\n",
       "78         Christine       33          2.0  1.663759e+09    35    33\n",
       "56              Guto       16          3.0  1.660152e+09    26    16\n",
       "97         Christine       41          3.0  1.663759e+09    35    41\n",
       "..               ...      ...          ...           ...   ...   ...\n",
       "71    Donald de Jong       28          2.0  1.662377e+09    31    28\n",
       "106             Sara       31          3.0  1.661194e+09    34    31\n",
       "14            R Rana       10          2.0  1.658348e+09     2    10\n",
       "92     kookxtra User       37          2.0  1.661187e+09    33    37\n",
       "102  mihaela azoitei        2          4.0  1.660572e+09    46     2\n",
       "\n",
       "[166 rows x 6 columns]"
      ]
     },
     "execution_count": 41,
     "metadata": {},
     "output_type": "execute_result"
    }
   ],
   "source": [
    "df"
   ]
  },
  {
   "cell_type": "code",
   "execution_count": 75,
   "id": "726ba04a",
   "metadata": {},
   "outputs": [],
   "source": [
    "pickle.dump(u,open('user.pkl','wb'))"
   ]
  },
  {
   "cell_type": "code",
   "execution_count": 65,
   "id": "5abc656a",
   "metadata": {},
   "outputs": [],
   "source": [
    "u=pd.DataFrame(data[['user_name','user_id']])"
   ]
  },
  {
   "cell_type": "code",
   "execution_count": 70,
   "id": "f5e948cc",
   "metadata": {},
   "outputs": [],
   "source": [
    "u=u.drop_duplicates()"
   ]
  },
  {
   "cell_type": "code",
   "execution_count": 71,
   "id": "81757d1e",
   "metadata": {},
   "outputs": [
    {
     "data": {
      "text/plain": [
       "(65, 2)"
      ]
     },
     "execution_count": 71,
     "metadata": {},
     "output_type": "execute_result"
    }
   ],
   "source": [
    "u.shape"
   ]
  },
  {
   "cell_type": "code",
   "execution_count": null,
   "id": "21ef20ab",
   "metadata": {},
   "outputs": [],
   "source": []
  },
  {
   "cell_type": "code",
   "execution_count": 73,
   "id": "ed7a70b2",
   "metadata": {},
   "outputs": [
    {
     "data": {
      "text/html": [
       "<div>\n",
       "<style scoped>\n",
       "    .dataframe tbody tr th:only-of-type {\n",
       "        vertical-align: middle;\n",
       "    }\n",
       "\n",
       "    .dataframe tbody tr th {\n",
       "        vertical-align: top;\n",
       "    }\n",
       "\n",
       "    .dataframe thead th {\n",
       "        text-align: right;\n",
       "    }\n",
       "</style>\n",
       "<table border=\"1\" class=\"dataframe\">\n",
       "  <thead>\n",
       "    <tr style=\"text-align: right;\">\n",
       "      <th></th>\n",
       "      <th>user_name</th>\n",
       "      <th>user_id</th>\n",
       "    </tr>\n",
       "  </thead>\n",
       "  <tbody>\n",
       "    <tr>\n",
       "      <th>0</th>\n",
       "      <td>Vishnu</td>\n",
       "      <td>0</td>\n",
       "    </tr>\n",
       "    <tr>\n",
       "      <th>1</th>\n",
       "      <td>Vibin</td>\n",
       "      <td>1</td>\n",
       "    </tr>\n",
       "    <tr>\n",
       "      <th>2</th>\n",
       "      <td>R Rana</td>\n",
       "      <td>2</td>\n",
       "    </tr>\n",
       "    <tr>\n",
       "      <th>4</th>\n",
       "      <td>kookxtra User 4</td>\n",
       "      <td>3</td>\n",
       "    </tr>\n",
       "    <tr>\n",
       "      <th>6</th>\n",
       "      <td>Amal Jo Mathew</td>\n",
       "      <td>4</td>\n",
       "    </tr>\n",
       "    <tr>\n",
       "      <th>...</th>\n",
       "      <td>...</td>\n",
       "      <td>...</td>\n",
       "    </tr>\n",
       "    <tr>\n",
       "      <th>137</th>\n",
       "      <td>Manu</td>\n",
       "      <td>60</td>\n",
       "    </tr>\n",
       "    <tr>\n",
       "      <th>138</th>\n",
       "      <td>kookxtra User 16</td>\n",
       "      <td>61</td>\n",
       "    </tr>\n",
       "    <tr>\n",
       "      <th>141</th>\n",
       "      <td>kookxtra User 22</td>\n",
       "      <td>62</td>\n",
       "    </tr>\n",
       "    <tr>\n",
       "      <th>158</th>\n",
       "      <td>Santosh</td>\n",
       "      <td>63</td>\n",
       "    </tr>\n",
       "    <tr>\n",
       "      <th>165</th>\n",
       "      <td>Madhu Kudukkasseri</td>\n",
       "      <td>64</td>\n",
       "    </tr>\n",
       "  </tbody>\n",
       "</table>\n",
       "<p>65 rows × 2 columns</p>\n",
       "</div>"
      ],
      "text/plain": [
       "               user_name  user_id\n",
       "0                 Vishnu        0\n",
       "1                  Vibin        1\n",
       "2                 R Rana        2\n",
       "4        kookxtra User 4        3\n",
       "6         Amal Jo Mathew        4\n",
       "..                   ...      ...\n",
       "137                Manu        60\n",
       "138     kookxtra User 16       61\n",
       "141     kookxtra User 22       62\n",
       "158             Santosh        63\n",
       "165  Madhu Kudukkasseri        64\n",
       "\n",
       "[65 rows x 2 columns]"
      ]
     },
     "execution_count": 73,
     "metadata": {},
     "output_type": "execute_result"
    }
   ],
   "source": [
    "u"
   ]
  },
  {
   "cell_type": "code",
   "execution_count": null,
   "id": "a057d451",
   "metadata": {},
   "outputs": [],
   "source": []
  },
  {
   "cell_type": "code",
   "execution_count": null,
   "id": "302928d6",
   "metadata": {},
   "outputs": [],
   "source": []
  },
  {
   "cell_type": "code",
   "execution_count": null,
   "id": "2e7e4277",
   "metadata": {},
   "outputs": [],
   "source": []
  },
  {
   "cell_type": "code",
   "execution_count": null,
   "id": "717613a6",
   "metadata": {},
   "outputs": [],
   "source": []
  },
  {
   "cell_type": "code",
   "execution_count": null,
   "id": "ce6c7a6f",
   "metadata": {},
   "outputs": [],
   "source": []
  },
  {
   "cell_type": "code",
   "execution_count": null,
   "id": "fb83719f",
   "metadata": {},
   "outputs": [],
   "source": []
  },
  {
   "cell_type": "code",
   "execution_count": null,
   "id": "4df79f4e",
   "metadata": {},
   "outputs": [],
   "source": []
  },
  {
   "cell_type": "code",
   "execution_count": null,
   "id": "7e0e0ffb",
   "metadata": {},
   "outputs": [],
   "source": []
  },
  {
   "cell_type": "code",
   "execution_count": null,
   "id": "2c1f77eb",
   "metadata": {},
   "outputs": [],
   "source": []
  },
  {
   "cell_type": "code",
   "execution_count": null,
   "id": "179bdf56",
   "metadata": {},
   "outputs": [],
   "source": []
  },
  {
   "cell_type": "code",
   "execution_count": null,
   "id": "1488b86e",
   "metadata": {},
   "outputs": [],
   "source": []
  },
  {
   "cell_type": "code",
   "execution_count": null,
   "id": "61e22ef2",
   "metadata": {},
   "outputs": [],
   "source": []
  },
  {
   "cell_type": "code",
   "execution_count": null,
   "id": "53ab6d56",
   "metadata": {},
   "outputs": [],
   "source": []
  },
  {
   "cell_type": "code",
   "execution_count": null,
   "id": "0fd7be92",
   "metadata": {},
   "outputs": [],
   "source": []
  },
  {
   "cell_type": "code",
   "execution_count": null,
   "id": "731f97c5",
   "metadata": {},
   "outputs": [],
   "source": []
  },
  {
   "cell_type": "code",
   "execution_count": null,
   "id": "1da0ab08",
   "metadata": {},
   "outputs": [],
   "source": []
  },
  {
   "cell_type": "code",
   "execution_count": null,
   "id": "7c6dd2c2",
   "metadata": {},
   "outputs": [],
   "source": []
  },
  {
   "cell_type": "code",
   "execution_count": null,
   "id": "e0891c01",
   "metadata": {},
   "outputs": [],
   "source": []
  },
  {
   "cell_type": "code",
   "execution_count": null,
   "id": "66de2db6",
   "metadata": {},
   "outputs": [],
   "source": []
  }
 ],
 "metadata": {
  "kernelspec": {
   "display_name": "Python 3 (ipykernel)",
   "language": "python",
   "name": "python3"
  },
  "language_info": {
   "codemirror_mode": {
    "name": "ipython",
    "version": 3
   },
   "file_extension": ".py",
   "mimetype": "text/x-python",
   "name": "python",
   "nbconvert_exporter": "python",
   "pygments_lexer": "ipython3",
   "version": "3.10.6"
  }
 },
 "nbformat": 4,
 "nbformat_minor": 5
}
